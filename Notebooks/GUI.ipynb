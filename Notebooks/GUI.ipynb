{
 "cells": [
  {
   "cell_type": "code",
   "execution_count": 3,
   "metadata": {},
   "outputs": [
    {
     "ename": "SyntaxError",
     "evalue": "invalid syntax (<ipython-input-3-ed83d41e9cad>, line 3)",
     "output_type": "error",
     "traceback": [
      "\u001b[1;36m  File \u001b[1;32m\"<ipython-input-3-ed83d41e9cad>\"\u001b[1;36m, line \u001b[1;32m3\u001b[0m\n\u001b[1;33m    import /cliente_spotify as CS\u001b[0m\n\u001b[1;37m           ^\u001b[0m\n\u001b[1;31mSyntaxError\u001b[0m\u001b[1;31m:\u001b[0m invalid syntax\n"
     ]
    }
   ],
   "source": [
    "import tkinter as tk\n",
    "from tkinter import messagebox\n",
    "import /cliente_spotify as CS"
   ]
  },
  {
   "cell_type": "code",
   "execution_count": 269,
   "metadata": {},
   "outputs": [],
   "source": [
    "client_id = 'e9a3d54e253d4efc91ada2f4cdd67cfc'\n",
    "client_secret = '74d8228a44694380a45feafaa516ac7d'\n",
    "client = CS.SpotifyAPI(client_id, client_secret)"
   ]
  },
  {
   "cell_type": "code",
   "execution_count": 270,
   "metadata": {},
   "outputs": [],
   "source": [
    "def auth():\n",
    "    if client.retrieve_tokens() == True:\n",
    "        messagebox.showinfo(\"INFO\", \"APP autorizada con éxito!\")"
   ]
  },
  {
   "cell_type": "code",
   "execution_count": 271,
   "metadata": {},
   "outputs": [],
   "source": [
    "def upd_playlist():\n",
    "    name = txt.get()\n",
    "    if len(name) == 0:\n",
    "        if client.create_liked_playlist() == True:\n",
    "            messagebox.showinfo(\"INFO\", \"Playlist creada o actualizada con éxito!\")\n",
    "    if client.create_liked_playlist(name=name) == True:\n",
    "        messagebox.showinfo(\"INFO\", \"Playlist creada o actualizada con éxito!\")"
   ]
  },
  {
   "cell_type": "code",
   "execution_count": 272,
   "metadata": {},
   "outputs": [],
   "source": [
    "window = tk.Tk()\n",
    "window.configure(bg='#898989')\n",
    "window.title(\"Gestor Spotify v1\")\n",
    "\n",
    "label1 = tk.Label(window, text=\"Bienvido al gestor de Spotify!\")\n",
    "btn1 = tk.Button(window, text=\"Autenticar APP\")\n",
    "label2 = tk.Label(window, text=\"\"\"Para convertir la lista de canciones que te gustan en una playlist pública,\n",
    "haz click en el siguiente botón y (opcionalmente) escribe el nombre de la nueva playlist\"\"\")\n",
    "txt = tk.Entry(window, width=50)\n",
    "btn2 = tk.Button(window, text=\"Crear/Actualizar Playlist\")\n"
   ]
  },
  {
   "cell_type": "code",
   "execution_count": 273,
   "metadata": {},
   "outputs": [],
   "source": [
    "label1.configure(bg='#898989', height=2, font=(None, 20, 'bold'))\n",
    "label1.grid(row=0)\n",
    "btn1.configure(bg='#898989', activebackground='#B0B1B0', font=(None, 15, 'bold'), command=auth)\n",
    "btn1.grid(row=1)\n",
    "label2.configure(bg='#898989', height=2, font=(None, 12))\n",
    "label2.grid(row=2)\n",
    "txt.grid(row=3)\n",
    "btn2.configure(bg='#898989', activebackground='#B0B1B0', font=(None, 10, 'bold'), command=upd_playlist)\n",
    "btn2.grid(row=4)"
   ]
  },
  {
   "cell_type": "code",
   "execution_count": 274,
   "metadata": {},
   "outputs": [
    {
     "name": "stdout",
     "output_type": "stream",
     "text": [
      "Opened https://accounts.spotify.com/authorize?client_id=e9a3d54e253d4efc91ada2f4cdd67cfc&response_type=code&redirect_uri=http%3A%2F%2Flocalhost%3A8000&scope=playlist-read-collaborative+playlist-modify-public+playlist-read-private+user-library-read in your browser\n"
     ]
    },
    {
     "name": "stderr",
     "output_type": "stream",
     "text": [
      "Exception in Tkinter callback\n",
      "Traceback (most recent call last):\n",
      "  File \"c:\\users\\gino-\\appdata\\local\\programs\\python\\python38\\lib\\tkinter\\__init__.py\", line 1883, in __call__\n",
      "    return self.func(*args)\n",
      "  File \"<ipython-input-271-900195276bde>\", line 6, in upd_playlist\n",
      "    if client.create_liked_playlist(name=name) == True:\n",
      "  File \"D:\\Desarrollo\\SpotifyAPI\\Notebooks\\cliente_spotify.py\", line 292, in create_liked_playlist\n",
      "  File \"D:\\Desarrollo\\SpotifyAPI\\Notebooks\\cliente_spotify.py\", line 337, in check_playlist\n",
      "    headers = self.get_resource_header()\n",
      "KeyError: 'total'\n"
     ]
    }
   ],
   "source": [
    "window.mainloop()"
   ]
  },
  {
   "cell_type": "code",
   "execution_count": null,
   "metadata": {},
   "outputs": [],
   "source": []
  }
 ],
 "metadata": {
  "kernelspec": {
   "display_name": "Python 3",
   "language": "python",
   "name": "python3"
  },
  "language_info": {
   "codemirror_mode": {
    "name": "ipython",
    "version": 3
   },
   "file_extension": ".py",
   "mimetype": "text/x-python",
   "name": "python",
   "nbconvert_exporter": "python",
   "pygments_lexer": "ipython3",
   "version": "3.8.2"
  }
 },
 "nbformat": 4,
 "nbformat_minor": 4
}
