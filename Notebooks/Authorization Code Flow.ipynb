{
 "cells": [
  {
   "cell_type": "code",
   "execution_count": 2,
   "metadata": {},
   "outputs": [],
   "source": [
    "import requests\n",
    "import datetime\n",
    "import base64\n",
    "import webbrowser\n",
    "from http.server import HTTPServer, BaseHTTPRequestHandler\n",
    "from urllib.parse import urlencode, urlparse, parse_qsl"
   ]
  },
  {
   "cell_type": "code",
   "execution_count": 3,
   "metadata": {},
   "outputs": [],
   "source": [
    "client_id = 'e9a3d54e253d4efc91ada2f4cdd67cfc'\n",
    "client_secret = '74d8228a44694380a45feafaa516ac7d'"
   ]
  },
  {
   "cell_type": "code",
   "execution_count": 4,
   "metadata": {},
   "outputs": [],
   "source": [
    "client_creds = f\"{client_id}:{client_secret}\""
   ]
  },
  {
   "cell_type": "code",
   "execution_count": 5,
   "metadata": {
    "scrolled": true
   },
   "outputs": [
    {
     "name": "stdout",
     "output_type": "stream",
     "text": [
      "b'ZTlhM2Q1NGUyNTNkNGVmYzkxYWRhMmY0Y2RkNjdjZmM6NzRkODIyOGE0NDY5NDM4MGE0NWZlYWZhYTUxNmFjN2Q='\n"
     ]
    }
   ],
   "source": [
    "client_creds_b64 = base64.b64encode(client_creds.encode())\n",
    "print(client_creds_b64)"
   ]
  },
  {
   "cell_type": "code",
   "execution_count": 6,
   "metadata": {},
   "outputs": [],
   "source": [
    "# Clase para crear un servidor local y obtener el codigo de autorizacion\n",
    "# Obtenido de https://github.com/plamere/spotipy/blob/master/spotipy/oauth2.py"
   ]
  },
  {
   "cell_type": "code",
   "execution_count": 9,
   "metadata": {},
   "outputs": [],
   "source": [
    "class RequestHandler(BaseHTTPRequestHandler):\n",
    "    def do_GET(self):\n",
    "        query_s = urlparse(self.path).query\n",
    "        form = dict(parse_qsl(query_s))\n",
    "\n",
    "        self.send_response(200)\n",
    "        self.send_header(\"Content-Type\", \"text/html\")\n",
    "        self.end_headers()\n",
    "\n",
    "        if \"code\" in form:\n",
    "            self.server.auth_code = form[\"code\"]\n",
    "            self.server.error = None\n",
    "            status = \"successful\"\n",
    "        elif \"error\" in form:\n",
    "            self.server.error = form[\"error\"]\n",
    "            self.server.auth_code = None\n",
    "            status = \"failed ({})\".format(form[\"error\"])\n",
    "        else:\n",
    "            self._write(\"<html><body><h1>Invalid request</h1></body></html>\")\n",
    "            return\n",
    "\n",
    "        self._write(\"\"\"\n",
    "        <html>\n",
    "        <script>\n",
    "        window.close()\n",
    "        </script>\n",
    "        <body>\n",
    "        <h1>Authentication status: {}</h1>\n",
    "        This window can be closed.\n",
    "        </body>\n",
    "        </html>\n",
    "        \"\"\".format(status))\n",
    "\n",
    "    def _write(self, text):\n",
    "        return self.wfile.write(text.encode(\"utf-8\"))\n",
    "\n",
    "    def log_message(self, format, *args):\n",
    "        return\n",
    "\n",
    "\n",
    "def start_local_http_server(port, handler=RequestHandler):\n",
    "    server = HTTPServer((\"localhost\", port), handler)\n",
    "    server.allow_reuse_address = True\n",
    "    server.auth_code = None\n",
    "    server.error = None\n",
    "    return server"
   ]
  },
  {
   "cell_type": "code",
   "execution_count": null,
   "metadata": {},
   "outputs": [],
   "source": [
    "def open_auth_url(self):\n",
    "    auth_url = self.get_authorize_url()\n",
    "    try:\n",
    "        webbrowser.open(auth_url)\n",
    "        logger.info(\"Opened %s in your browser\", auth_url)\n",
    "    except webbrowser.Error:\n",
    "        logger.error(\"Please navigate here: %s\", auth_url)"
   ]
  },
  {
   "cell_type": "code",
   "execution_count": 10,
   "metadata": {},
   "outputs": [],
   "source": [
    "def get_auth_response_local_server(redirect_port):\n",
    "        server = start_local_http_server(redirect_port)\n",
    "        #self._open_auth_url()\n",
    "        server.handle_request()\n",
    "\n",
    "        if server.auth_code is not None:\n",
    "            print(server.auth_code)\n",
    "            return server.auth_code\n",
    "        elif server.error is not None:\n",
    "            raise Exception(\"Received error from OAuth server: {}\".format(server.error))\n",
    "        else:\n",
    "            raise Exception(\"Server listening on localhost has not been accessed\")"
   ]
  },
  {
   "cell_type": "code",
   "execution_count": 11,
   "metadata": {},
   "outputs": [
    {
     "name": "stdout",
     "output_type": "stream",
     "text": [
      "https://accounts.spotify.com/authorize?client_id=e9a3d54e253d4efc91ada2f4cdd67cfc&response_type=code&redirect_uri=http%3A%2F%2Flocalhost%3A8000\n"
     ]
    }
   ],
   "source": [
    "# Autorizacion de la app\n",
    "def get_authorize_url(self):\n",
    "    endpoint = \"https://accounts.spotify.com/authorize\"\n",
    "    local_uri = \"http://localhost:8000\"\n",
    "    auth_data = {\n",
    "        \"client_id\": client_id,\n",
    "        \"response_type\": \"code\",\n",
    "        \"redirect_uri\": local_uri\n",
    "    }\n",
    "    data = urlencode(auth_data)\n",
    "    auth_url = f\"{endpoint}?{data}\"\n",
    "    return auth_url"
   ]
  },
  {
   "cell_type": "code",
   "execution_count": 12,
   "metadata": {},
   "outputs": [
    {
     "name": "stdout",
     "output_type": "stream",
     "text": [
      "200\n",
      "AQBLGr6okjTSF1O-qzeEcABrez8YBvSnDMPb8CARbH0RaQtonQQ_OAo_9LHhJ2zJKQ_A2B24gtnbZybzcsFx7zQ_altbKlQdrn8KWCCi4ffNpLvdKtXW3DGEvDtIBhg3TJq6yd6aitwkzQyHuEknPuSM7ju3kC7lVQ\n"
     ]
    },
    {
     "data": {
      "text/plain": [
       "'AQBLGr6okjTSF1O-qzeEcABrez8YBvSnDMPb8CARbH0RaQtonQQ_OAo_9LHhJ2zJKQ_A2B24gtnbZybzcsFx7zQ_altbKlQdrn8KWCCi4ffNpLvdKtXW3DGEvDtIBhg3TJq6yd6aitwkzQyHuEknPuSM7ju3kC7lVQ'"
      ]
     },
     "execution_count": 12,
     "metadata": {},
     "output_type": "execute_result"
    }
   ],
   "source": [
    "r = requests.get(auth_url)\n",
    "print(r.status_code)\n",
    "auth_code = get_auth_response_local_server(redirect_port=8000)"
   ]
  },
  {
   "cell_type": "code",
   "execution_count": null,
   "metadata": {},
   "outputs": [],
   "source": [
    "# Solicitar token de acceso y de renovacion"
   ]
  },
  {
   "cell_type": "code",
   "execution_count": 14,
   "metadata": {},
   "outputs": [],
   "source": [
    "token_url = \"https://accounts.spotify.com/api/token\"\n",
    "token_data = {\n",
    "    \"grant_type\": \"authorization_code\",\n",
    "    \"code\": \"AQBLGr6okjTSF1O-qzeEcABrez8YBvSnDMPb8CARbH0RaQtonQQ_OAo_9LHhJ2zJKQ_A2B24gtnbZybzcsFx7zQ_altbKlQdrn8KWCCi4ffNpLvdKtXW3DGEvDtIBhg3TJq6yd6aitwkzQyHuEknPuSM7ju3kC7lVQ\",\n",
    "    \"redirect_uri\": local_uri\n",
    "}\n",
    "token_headers = {\n",
    "    \"Authorization\": f\"Basic {client_creds_b64.decode()}\" # <base64 encoded client_id:client_secret>\n",
    "}"
   ]
  },
  {
   "cell_type": "code",
   "execution_count": 15,
   "metadata": {},
   "outputs": [
    {
     "name": "stdout",
     "output_type": "stream",
     "text": [
      "{'access_token': 'BQDzgChkCn_hkY69or2QoOfUCDewuH9pvo9BLdf0z8qlnBxuiUM9rNpxgM3QEV1FKrOd5oPWqzPPi85K7Xs-hvbpurrFh6hrAO_ZP2L5bh5tXaqX6-CJ80uWv98fMYfLlcD2_AdHjllE2yh4RNx8fgA_pSGucO3teJxkKg', 'token_type': 'Bearer', 'expires_in': 3600, 'refresh_token': 'AQB5dZuTnjOac7gqSdXGc4YXl2X3zAss3j3YMrmHD3VR5Q_8SsTdz0yFOpPalzWKGXVCAKmiVwdhmpJgtkYw51p82mvVLzUUSBe9GF2QXXvhdXo0qR2v2TXmGB1X7a7_-ic', 'scope': ''}\n"
     ]
    }
   ],
   "source": [
    "r = requests.post(token_url, data=token_data, headers=token_headers)\n",
    "print(r.json())\n",
    "valid_request = r.status_code in range(200, 299)"
   ]
  },
  {
   "cell_type": "code",
   "execution_count": 18,
   "metadata": {},
   "outputs": [
    {
     "name": "stdout",
     "output_type": "stream",
     "text": [
      "AQB5dZuTnjOac7gqSdXGc4YXl2X3zAss3j3YMrmHD3VR5Q_8SsTdz0yFOpPalzWKGXVCAKmiVwdhmpJgtkYw51p82mvVLzUUSBe9GF2QXXvhdXo0qR2v2TXmGB1X7a7_-ic\n"
     ]
    }
   ],
   "source": [
    "if valid_request:\n",
    "    token_response_data = r.json()\n",
    "    now = datetime.datetime.now()\n",
    "    access_token = token_response_data['access_token']\n",
    "    refresh_token = token_response_data['refresh_token']\n",
    "    print(refresh_token)\n",
    "    expires_in = token_response_data['expires_in'] # seconds\n",
    "    expires = now + datetime.timedelta(seconds=expires_in)\n",
    "    did_expire = expires < now"
   ]
  },
  {
   "cell_type": "code",
   "execution_count": null,
   "metadata": {},
   "outputs": [],
   "source": []
  }
 ],
 "metadata": {
  "kernelspec": {
   "display_name": "Python 3",
   "language": "python",
   "name": "python3"
  },
  "language_info": {
   "codemirror_mode": {
    "name": "ipython",
    "version": 3
   },
   "file_extension": ".py",
   "mimetype": "text/x-python",
   "name": "python",
   "nbconvert_exporter": "python",
   "pygments_lexer": "ipython3",
   "version": "3.8.2"
  }
 },
 "nbformat": 4,
 "nbformat_minor": 4
}
